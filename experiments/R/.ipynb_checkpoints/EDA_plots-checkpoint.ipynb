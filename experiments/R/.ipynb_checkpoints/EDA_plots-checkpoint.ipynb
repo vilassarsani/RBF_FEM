{
 "cells": [
  {
   "cell_type": "code",
   "execution_count": null,
   "id": "b2f32b11-7926-4705-8f17-d789fb3ad709",
   "metadata": {},
   "outputs": [],
   "source": [
    "# Load the required packages\n",
    "suppressWarnings(suppressMessages(library(rayshader)))\n",
    "suppressWarnings(suppressMessages(library(ggplot2)))\n",
    "suppressWarnings(suppressMessages(library(tidyverse)))\n",
    "suppressWarnings(suppressMessages(library(viridis)))\n",
    "library(rgl)\n"
   ]
  },
  {
   "cell_type": "code",
   "execution_count": 6,
   "id": "100a1327-3e6a-4495-80f3-62c910abde5b",
   "metadata": {},
   "outputs": [],
   "source": [
    "df <- read.csv(\"../../data//subject_longdata.csv\")"
   ]
  },
  {
   "cell_type": "code",
   "execution_count": 7,
   "id": "b4b4eaa2-daef-4933-9f7b-6808fdf8adcf",
   "metadata": {},
   "outputs": [
    {
     "data": {
      "text/html": [
       "<table class=\"dataframe\">\n",
       "<caption>A data.frame: 2 × 47</caption>\n",
       "<thead>\n",
       "\t<tr><th></th><th scope=col>X</th><th scope=col>projid</th><th scope=col>Brain_ID</th><th scope=col>class</th><th scope=col>age_death</th><th scope=col>age_sv</th><th scope=col>msex</th><th scope=col>educ</th><th scope=col>AD_REAGAN</th><th scope=col>gpath</th><th scope=col>⋯</th><th scope=col>cogn_global</th><th scope=col>cts_mmse30</th><th scope=col>bmi_r</th><th scope=col>dbp_avg</th><th scope=col>hypertension_cum</th><th scope=col>sbp_avg</th><th scope=col>diabetes_sr_rx_ever</th><th scope=col>cogdx</th><th scope=col>pmi</th><th scope=col>Muscle_ID</th></tr>\n",
       "\t<tr><th></th><th scope=col>&lt;int&gt;</th><th scope=col>&lt;int&gt;</th><th scope=col>&lt;chr&gt;</th><th scope=col>&lt;chr&gt;</th><th scope=col>&lt;dbl&gt;</th><th scope=col>&lt;dbl&gt;</th><th scope=col>&lt;chr&gt;</th><th scope=col>&lt;int&gt;</th><th scope=col>&lt;chr&gt;</th><th scope=col>&lt;dbl&gt;</th><th scope=col>⋯</th><th scope=col>&lt;dbl&gt;</th><th scope=col>&lt;dbl&gt;</th><th scope=col>&lt;dbl&gt;</th><th scope=col>&lt;dbl&gt;</th><th scope=col>&lt;int&gt;</th><th scope=col>&lt;dbl&gt;</th><th scope=col>&lt;int&gt;</th><th scope=col>&lt;int&gt;</th><th scope=col>&lt;dbl&gt;</th><th scope=col>&lt;chr&gt;</th></tr>\n",
       "</thead>\n",
       "<tbody>\n",
       "\t<tr><th scope=row>1</th><td>1</td><td>668310</td><td>40-276.SQPlex.03_131N</td><td>NDM_AD_high</td><td>92.619</td><td>91.513</td><td>m</td><td>15</td><td>AD_high</td><td>1.14796</td><td>⋯</td><td>-2.013639</td><td>12</td><td>25.99072</td><td>68</td><td>1</td><td>111</td><td>0</td><td>4</td><td>5.083333</td><td>40-276.SQPlex.24_131N</td></tr>\n",
       "\t<tr><th scope=row>2</th><td>2</td><td>668310</td><td>40-276.SQPlex.03_131N</td><td>NDM_AD_high</td><td>92.619</td><td>91.513</td><td>m</td><td>15</td><td>AD_high</td><td>1.14796</td><td>⋯</td><td>-3.487721</td><td> 8</td><td>      NA</td><td>77</td><td>1</td><td>134</td><td>0</td><td>4</td><td>5.083333</td><td>40-276.SQPlex.24_131N</td></tr>\n",
       "</tbody>\n",
       "</table>\n"
      ],
      "text/latex": [
       "A data.frame: 2 × 47\n",
       "\\begin{tabular}{r|lllllllllllllllllllll}\n",
       "  & X & projid & Brain\\_ID & class & age\\_death & age\\_sv & msex & educ & AD\\_REAGAN & gpath & ⋯ & cogn\\_global & cts\\_mmse30 & bmi\\_r & dbp\\_avg & hypertension\\_cum & sbp\\_avg & diabetes\\_sr\\_rx\\_ever & cogdx & pmi & Muscle\\_ID\\\\\n",
       "  & <int> & <int> & <chr> & <chr> & <dbl> & <dbl> & <chr> & <int> & <chr> & <dbl> & ⋯ & <dbl> & <dbl> & <dbl> & <dbl> & <int> & <dbl> & <int> & <int> & <dbl> & <chr>\\\\\n",
       "\\hline\n",
       "\t1 & 1 & 668310 & 40-276.SQPlex.03\\_131N & NDM\\_AD\\_high & 92.619 & 91.513 & m & 15 & AD\\_high & 1.14796 & ⋯ & -2.013639 & 12 & 25.99072 & 68 & 1 & 111 & 0 & 4 & 5.083333 & 40-276.SQPlex.24\\_131N\\\\\n",
       "\t2 & 2 & 668310 & 40-276.SQPlex.03\\_131N & NDM\\_AD\\_high & 92.619 & 91.513 & m & 15 & AD\\_high & 1.14796 & ⋯ & -3.487721 &  8 &       NA & 77 & 1 & 134 & 0 & 4 & 5.083333 & 40-276.SQPlex.24\\_131N\\\\\n",
       "\\end{tabular}\n"
      ],
      "text/markdown": [
       "\n",
       "A data.frame: 2 × 47\n",
       "\n",
       "| <!--/--> | X &lt;int&gt; | projid &lt;int&gt; | Brain_ID &lt;chr&gt; | class &lt;chr&gt; | age_death &lt;dbl&gt; | age_sv &lt;dbl&gt; | msex &lt;chr&gt; | educ &lt;int&gt; | AD_REAGAN &lt;chr&gt; | gpath &lt;dbl&gt; | ⋯ ⋯ | cogn_global &lt;dbl&gt; | cts_mmse30 &lt;dbl&gt; | bmi_r &lt;dbl&gt; | dbp_avg &lt;dbl&gt; | hypertension_cum &lt;int&gt; | sbp_avg &lt;dbl&gt; | diabetes_sr_rx_ever &lt;int&gt; | cogdx &lt;int&gt; | pmi &lt;dbl&gt; | Muscle_ID &lt;chr&gt; |\n",
       "|---|---|---|---|---|---|---|---|---|---|---|---|---|---|---|---|---|---|---|---|---|---|\n",
       "| 1 | 1 | 668310 | 40-276.SQPlex.03_131N | NDM_AD_high | 92.619 | 91.513 | m | 15 | AD_high | 1.14796 | ⋯ | -2.013639 | 12 | 25.99072 | 68 | 1 | 111 | 0 | 4 | 5.083333 | 40-276.SQPlex.24_131N |\n",
       "| 2 | 2 | 668310 | 40-276.SQPlex.03_131N | NDM_AD_high | 92.619 | 91.513 | m | 15 | AD_high | 1.14796 | ⋯ | -3.487721 |  8 |       NA | 77 | 1 | 134 | 0 | 4 | 5.083333 | 40-276.SQPlex.24_131N |\n",
       "\n"
      ],
      "text/plain": [
       "  X projid Brain_ID              class       age_death age_sv msex educ\n",
       "1 1 668310 40-276.SQPlex.03_131N NDM_AD_high 92.619    91.513 m    15  \n",
       "2 2 668310 40-276.SQPlex.03_131N NDM_AD_high 92.619    91.513 m    15  \n",
       "  AD_REAGAN gpath   ⋯ cogn_global cts_mmse30 bmi_r    dbp_avg hypertension_cum\n",
       "1 AD_high   1.14796 ⋯ -2.013639   12         25.99072 68      1               \n",
       "2 AD_high   1.14796 ⋯ -3.487721    8               NA 77      1               \n",
       "  sbp_avg diabetes_sr_rx_ever cogdx pmi      Muscle_ID            \n",
       "1 111     0                   4     5.083333 40-276.SQPlex.24_131N\n",
       "2 134     0                   4     5.083333 40-276.SQPlex.24_131N"
      ]
     },
     "metadata": {},
     "output_type": "display_data"
    }
   ],
   "source": [
    "head(df,2)"
   ]
  },
  {
   "cell_type": "code",
   "execution_count": 16,
   "id": "6945322f-dd64-448b-8fa3-5036a8aa7285",
   "metadata": {},
   "outputs": [
    {
     "data": {
      "text/html": [
       "9.3"
      ],
      "text/latex": [
       "9.3"
      ],
      "text/markdown": [
       "9.3"
      ],
      "text/plain": [
       "[1] 9.3"
      ]
     },
     "metadata": {},
     "output_type": "display_data"
    }
   ],
   "source": [
    "max(df$hba1c,na.rm = TRUE)"
   ]
  },
  {
   "cell_type": "code",
   "execution_count": 11,
   "id": "64984d79-6dfd-4fdb-bace-c7d8a126951c",
   "metadata": {},
   "outputs": [
    {
     "data": {
      "text/html": [
       "<style>\n",
       ".list-inline {list-style: none; margin:0; padding: 0}\n",
       ".list-inline>li {display: inline-block}\n",
       ".list-inline>li:not(:last-child)::after {content: \"\\00b7\"; padding: 0 .5ex}\n",
       "</style>\n",
       "<ol class=list-inline><li>'X'</li><li>'projid'</li><li>'Brain_ID'</li><li>'class'</li><li>'age_death'</li><li>'age_sv'</li><li>'msex'</li><li>'educ'</li><li>'AD_REAGAN'</li><li>'gpath'</li><li>'cogn_global_lv'</li><li>'cogn_global_sv'</li><li>'cogng_demog_slope'</li><li>'cogng_path_slope'</li><li>'diabetes_sr_rx_cum_sv'</li><li>'hba1c_sv_2'</li><li>'ssp_adi_lepr'</li><li>'ssp_adiponectin'</li><li>'ssp_HOMA'</li><li>'ssp_insulin'</li><li>'ssp_leptin'</li><li>'arteriol_scler_mods'</li><li>'CI_NUM2_TCT'</li><li>'cvda_mods'</li><li>'fu_year'</li><li>'scaled_to'</li><li>'glucose'</li><li>'hba1c'</li><li>'hdlchlstrl'</li><li>'hdlratio'</li><li>'ldlchlstrl'</li><li>'dcfdx'</li><li>'cogn_ep'</li><li>'cogn_po'</li><li>'cogn_ps'</li><li>'cogn_se'</li><li>'cogn_wo'</li><li>'cogn_global'</li><li>'cts_mmse30'</li><li>'bmi_r'</li><li>'dbp_avg'</li><li>'hypertension_cum'</li><li>'sbp_avg'</li><li>'diabetes_sr_rx_ever'</li><li>'cogdx'</li><li>'pmi'</li><li>'Muscle_ID'</li></ol>\n"
      ],
      "text/latex": [
       "\\begin{enumerate*}\n",
       "\\item 'X'\n",
       "\\item 'projid'\n",
       "\\item 'Brain\\_ID'\n",
       "\\item 'class'\n",
       "\\item 'age\\_death'\n",
       "\\item 'age\\_sv'\n",
       "\\item 'msex'\n",
       "\\item 'educ'\n",
       "\\item 'AD\\_REAGAN'\n",
       "\\item 'gpath'\n",
       "\\item 'cogn\\_global\\_lv'\n",
       "\\item 'cogn\\_global\\_sv'\n",
       "\\item 'cogng\\_demog\\_slope'\n",
       "\\item 'cogng\\_path\\_slope'\n",
       "\\item 'diabetes\\_sr\\_rx\\_cum\\_sv'\n",
       "\\item 'hba1c\\_sv\\_2'\n",
       "\\item 'ssp\\_adi\\_lepr'\n",
       "\\item 'ssp\\_adiponectin'\n",
       "\\item 'ssp\\_HOMA'\n",
       "\\item 'ssp\\_insulin'\n",
       "\\item 'ssp\\_leptin'\n",
       "\\item 'arteriol\\_scler\\_mods'\n",
       "\\item 'CI\\_NUM2\\_TCT'\n",
       "\\item 'cvda\\_mods'\n",
       "\\item 'fu\\_year'\n",
       "\\item 'scaled\\_to'\n",
       "\\item 'glucose'\n",
       "\\item 'hba1c'\n",
       "\\item 'hdlchlstrl'\n",
       "\\item 'hdlratio'\n",
       "\\item 'ldlchlstrl'\n",
       "\\item 'dcfdx'\n",
       "\\item 'cogn\\_ep'\n",
       "\\item 'cogn\\_po'\n",
       "\\item 'cogn\\_ps'\n",
       "\\item 'cogn\\_se'\n",
       "\\item 'cogn\\_wo'\n",
       "\\item 'cogn\\_global'\n",
       "\\item 'cts\\_mmse30'\n",
       "\\item 'bmi\\_r'\n",
       "\\item 'dbp\\_avg'\n",
       "\\item 'hypertension\\_cum'\n",
       "\\item 'sbp\\_avg'\n",
       "\\item 'diabetes\\_sr\\_rx\\_ever'\n",
       "\\item 'cogdx'\n",
       "\\item 'pmi'\n",
       "\\item 'Muscle\\_ID'\n",
       "\\end{enumerate*}\n"
      ],
      "text/markdown": [
       "1. 'X'\n",
       "2. 'projid'\n",
       "3. 'Brain_ID'\n",
       "4. 'class'\n",
       "5. 'age_death'\n",
       "6. 'age_sv'\n",
       "7. 'msex'\n",
       "8. 'educ'\n",
       "9. 'AD_REAGAN'\n",
       "10. 'gpath'\n",
       "11. 'cogn_global_lv'\n",
       "12. 'cogn_global_sv'\n",
       "13. 'cogng_demog_slope'\n",
       "14. 'cogng_path_slope'\n",
       "15. 'diabetes_sr_rx_cum_sv'\n",
       "16. 'hba1c_sv_2'\n",
       "17. 'ssp_adi_lepr'\n",
       "18. 'ssp_adiponectin'\n",
       "19. 'ssp_HOMA'\n",
       "20. 'ssp_insulin'\n",
       "21. 'ssp_leptin'\n",
       "22. 'arteriol_scler_mods'\n",
       "23. 'CI_NUM2_TCT'\n",
       "24. 'cvda_mods'\n",
       "25. 'fu_year'\n",
       "26. 'scaled_to'\n",
       "27. 'glucose'\n",
       "28. 'hba1c'\n",
       "29. 'hdlchlstrl'\n",
       "30. 'hdlratio'\n",
       "31. 'ldlchlstrl'\n",
       "32. 'dcfdx'\n",
       "33. 'cogn_ep'\n",
       "34. 'cogn_po'\n",
       "35. 'cogn_ps'\n",
       "36. 'cogn_se'\n",
       "37. 'cogn_wo'\n",
       "38. 'cogn_global'\n",
       "39. 'cts_mmse30'\n",
       "40. 'bmi_r'\n",
       "41. 'dbp_avg'\n",
       "42. 'hypertension_cum'\n",
       "43. 'sbp_avg'\n",
       "44. 'diabetes_sr_rx_ever'\n",
       "45. 'cogdx'\n",
       "46. 'pmi'\n",
       "47. 'Muscle_ID'\n",
       "\n",
       "\n"
      ],
      "text/plain": [
       " [1] \"X\"                     \"projid\"                \"Brain_ID\"             \n",
       " [4] \"class\"                 \"age_death\"             \"age_sv\"               \n",
       " [7] \"msex\"                  \"educ\"                  \"AD_REAGAN\"            \n",
       "[10] \"gpath\"                 \"cogn_global_lv\"        \"cogn_global_sv\"       \n",
       "[13] \"cogng_demog_slope\"     \"cogng_path_slope\"      \"diabetes_sr_rx_cum_sv\"\n",
       "[16] \"hba1c_sv_2\"            \"ssp_adi_lepr\"          \"ssp_adiponectin\"      \n",
       "[19] \"ssp_HOMA\"              \"ssp_insulin\"           \"ssp_leptin\"           \n",
       "[22] \"arteriol_scler_mods\"   \"CI_NUM2_TCT\"           \"cvda_mods\"            \n",
       "[25] \"fu_year\"               \"scaled_to\"             \"glucose\"              \n",
       "[28] \"hba1c\"                 \"hdlchlstrl\"            \"hdlratio\"             \n",
       "[31] \"ldlchlstrl\"            \"dcfdx\"                 \"cogn_ep\"              \n",
       "[34] \"cogn_po\"               \"cogn_ps\"               \"cogn_se\"              \n",
       "[37] \"cogn_wo\"               \"cogn_global\"           \"cts_mmse30\"           \n",
       "[40] \"bmi_r\"                 \"dbp_avg\"               \"hypertension_cum\"     \n",
       "[43] \"sbp_avg\"               \"diabetes_sr_rx_ever\"   \"cogdx\"                \n",
       "[46] \"pmi\"                   \"Muscle_ID\"            "
      ]
     },
     "metadata": {},
     "output_type": "display_data"
    }
   ],
   "source": [
    "names(df)"
   ]
  },
  {
   "cell_type": "code",
   "execution_count": null,
   "id": "8a876185-578f-4709-bb4c-456f2c8123b5",
   "metadata": {},
   "outputs": [
    {
     "name": "stderr",
     "output_type": "stream",
     "text": [
      "\u001b[1mRows: \u001b[22m\u001b[34m1746\u001b[39m \u001b[1mColumns: \u001b[22m\u001b[34m16\u001b[39m\n",
      "\u001b[36m──\u001b[39m \u001b[1mColumn specification\u001b[22m \u001b[36m───────────────────────────────────────────────────────────────────────────────────────\u001b[39m\n",
      "\u001b[1mDelimiter:\u001b[22m \",\"\n",
      "\u001b[31mchr\u001b[39m  (3): Region, ISO3, Country\n",
      "\u001b[32mdbl\u001b[39m (13): Year, January, February, March, April, May, June, July, August, Se...\n",
      "\n",
      "\u001b[36mℹ\u001b[39m Use `spec()` to retrieve the full column specification for this data.\n",
      "\u001b[36mℹ\u001b[39m Specify the column types or set `show_col_types = FALSE` to quiet this message.\n",
      "\u001b[1m\u001b[22m`summarise()` has grouped output by 'Year'. You can override using the `.groups` argument.\n"
     ]
    }
   ],
   "source": [
    "library(tidyverse)\n",
    "measles = read_csv(\"https://tylermw.com/data/measles_country_2011_2019.csv\")\n",
    "melt_measles = reshape2::melt(measles, id.vars = c(\"Year\", \"Country\", \"Region\", \"ISO3\"))\n",
    "melt_measles$Month = melt_measles$variable\n",
    "melt_measles$cases = melt_measles$value\n",
    "melt_measles %>% \n",
    "  group_by(Year, Month) %>%\n",
    "  summarize(totalcases = sum(cases,na.rm = TRUE)) %>% \n",
    "  mutate(totalcases = ifelse(Year == 2019 & !(Month %in% c(\"January\",\"February\",\"March\")), NA, totalcases)) %>%\n",
    "  ggplot() + \n",
    "  geom_tile(aes(x=Year, y=Month, fill=totalcases,color=totalcases),size=1,color=\"black\") + \n",
    "  scale_x_continuous(\"Year\", expand=c(0,0), breaks = seq(2011,2019,1)) +\n",
    "  scale_y_discrete(\"Month\", expand=c(0,0)) +\n",
    "  scale_fill_viridis(\"Total\\nCases\") +\n",
    "  ggtitle(\"Reported Worldwide Measles Cases\") +\n",
    "  labs(caption = \"Data Source: WHO\") +\n",
    "  theme(axis.text = element_text(size = 12),\n",
    "        title = element_text(size = 12,face=\"bold\"),\n",
    "        panel.border= element_rect(size=2,color=\"black\",fill=NA)) -> \n",
    "measles_gg\n",
    "\n",
    "p <- plot_gg(measles_gg, multicore = TRUE, width = 6, height = 5.5, scale = 300, \n",
    "background = \"#afceff\",shadowcolor = \"#3a4f70\")\n"
   ]
  },
  {
   "cell_type": "code",
   "execution_count": 21,
   "id": "54ddf042-7b74-4b57-b076-65b6c968db50",
   "metadata": {},
   "outputs": [
    {
     "ename": "ERROR",
     "evalue": "Error in render_movie(., frames = 60, filename = \"my_movie.mp4\"): No rgl window currently open.\n",
     "output_type": "error",
     "traceback": [
      "Error in render_movie(., frames = 60, filename = \"my_movie.mp4\"): No rgl window currently open.\nTraceback:\n",
      "1. p %>% render_movie(frames = 60, filename = \"my_movie.mp4\")",
      "2. render_movie(., frames = 60, filename = \"my_movie.mp4\")",
      "3. stop(\"No rgl window currently open.\")"
     ]
    }
   ],
   "source": [
    "p%>% render_movie(frames = 60, filename = \"my_movie.mp4\")"
   ]
  },
  {
   "cell_type": "code",
   "execution_count": null,
   "id": "aeb9db29-17dd-4e0b-880c-5ac7cc0aa718",
   "metadata": {},
   "outputs": [],
   "source": []
  }
 ],
 "metadata": {
  "kernelspec": {
   "display_name": "R",
   "language": "R",
   "name": "ir"
  },
  "language_info": {
   "codemirror_mode": "r",
   "file_extension": ".r",
   "mimetype": "text/x-r-source",
   "name": "R",
   "pygments_lexer": "r",
   "version": "4.2.0"
  }
 },
 "nbformat": 4,
 "nbformat_minor": 5
}
